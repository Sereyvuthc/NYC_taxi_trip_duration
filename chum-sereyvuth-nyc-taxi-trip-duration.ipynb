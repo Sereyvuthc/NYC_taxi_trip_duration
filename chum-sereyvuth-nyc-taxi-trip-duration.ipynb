{
 "cells": [
  {
   "cell_type": "markdown",
   "metadata": {
    "_uuid": "dac0156d713eeda78ddf617fc6a73ff5932bc5d4"
   },
   "source": [
    "In this competition, Kaggle is challenging you to build a model that predicts the total ride duration of taxi trips in New York City. Your primary dataset is one released by the NYC Taxi and Limousine Commission, which includes pickup time, geo-coordinates, number of passengers, and several other variables.\n",
    "\n",
    "Longtime Kagglers will recognize that this competition objective is similar to the ECML/PKDD trip time challenge we hosted in 2015. But, this challenge comes with a twist. Instead of awarding prizes to the top finishers on the leaderboard, this playground competition was created to reward collaboration and collective learning.\n",
    "\n",
    "We are encouraging you (with cash prizes!) to publish additional training data that other participants can use for their predictions. We also have designated bi-weekly and final prizes to reward authors of kernels that are particularly insightful or valuable to the community."
   ]
  },
  {
   "cell_type": "markdown",
   "metadata": {
    "_uuid": "30962032e3a17d05b47bad8b41156d3f4aaebec2"
   },
   "source": [
    "# Import\n"
   ]
  },
  {
   "cell_type": "code",
   "execution_count": 1,
   "metadata": {
    "_uuid": "20912defc8b6792be89ad5ebdaf60f08a52d5092"
   },
   "outputs": [],
   "source": [
    "import numpy as np\n",
    "import pandas as pd\n",
    "import xgboost as xgb\n",
    "\n",
    "import os\n",
    "from pathlib import Path\n",
    "\n",
    "# importer la lib pour cross valider le model\n",
    "from sklearn.model_selection import cross_val_score\n",
    "\n",
    "# importer la lib pour la regression de Random Forest\n",
    "from sklearn.ensemble import RandomForestRegressor\n",
    "\n",
    "# importer la lib pour la regression de Random Forest\n",
    "from sklearn.linear_model import SGDRegressor\n",
    "\n",
    "from sklearn.linear_model import LinearRegression\n",
    "\n",
    "from sklearn.model_selection import ShuffleSplit\n",
    "\n",
    "\n",
    "import matplotlib.pyplot as plt\n",
    "import numpy as np\n",
    "import pandas as pd\n",
    "import datetime as dt\n",
    "\n",
    "\n",
    "%matplotlib inline"
   ]
  },
  {
   "cell_type": "markdown",
   "metadata": {
    "_uuid": "1031cd83f9076a2458000819998ac7a331866b54"
   },
   "source": [
    "# 1. Data loading"
   ]
  },
  {
   "cell_type": "code",
   "execution_count": 2,
   "metadata": {
    "_uuid": "959d71a55b825c1394914ceb30d3c9a9666ee9e0"
   },
   "outputs": [],
   "source": [
    "#train = pd.read_csv('training/train.csv')\n",
    "train = pd.read_csv('../input/train.csv')\n",
    "test = pd.read_csv('../input/test.csv')\n",
    "sample = pd.read_csv('../input/sample_submission.csv')\n"
   ]
  },
  {
   "cell_type": "code",
   "execution_count": 3,
   "metadata": {
    "_uuid": "f9a3de86495d6e471c4081785f3da75e556d3fea"
   },
   "outputs": [
    {
     "data": {
      "text/html": [
       "<div>\n",
       "<style scoped>\n",
       "    .dataframe tbody tr th:only-of-type {\n",
       "        vertical-align: middle;\n",
       "    }\n",
       "\n",
       "    .dataframe tbody tr th {\n",
       "        vertical-align: top;\n",
       "    }\n",
       "\n",
       "    .dataframe thead th {\n",
       "        text-align: right;\n",
       "    }\n",
       "</style>\n",
       "<table border=\"1\" class=\"dataframe\">\n",
       "  <thead>\n",
       "    <tr style=\"text-align: right;\">\n",
       "      <th></th>\n",
       "      <th>id</th>\n",
       "      <th>vendor_id</th>\n",
       "      <th>pickup_datetime</th>\n",
       "      <th>dropoff_datetime</th>\n",
       "      <th>passenger_count</th>\n",
       "      <th>pickup_longitude</th>\n",
       "      <th>pickup_latitude</th>\n",
       "      <th>dropoff_longitude</th>\n",
       "      <th>dropoff_latitude</th>\n",
       "      <th>store_and_fwd_flag</th>\n",
       "      <th>trip_duration</th>\n",
       "    </tr>\n",
       "  </thead>\n",
       "  <tbody>\n",
       "    <tr>\n",
       "      <th>0</th>\n",
       "      <td>id2875421</td>\n",
       "      <td>2</td>\n",
       "      <td>2016-03-14 17:24:55</td>\n",
       "      <td>2016-03-14 17:32:30</td>\n",
       "      <td>1</td>\n",
       "      <td>-73.982155</td>\n",
       "      <td>40.767937</td>\n",
       "      <td>-73.964630</td>\n",
       "      <td>40.765602</td>\n",
       "      <td>N</td>\n",
       "      <td>455</td>\n",
       "    </tr>\n",
       "    <tr>\n",
       "      <th>1</th>\n",
       "      <td>id2377394</td>\n",
       "      <td>1</td>\n",
       "      <td>2016-06-12 00:43:35</td>\n",
       "      <td>2016-06-12 00:54:38</td>\n",
       "      <td>1</td>\n",
       "      <td>-73.980415</td>\n",
       "      <td>40.738564</td>\n",
       "      <td>-73.999481</td>\n",
       "      <td>40.731152</td>\n",
       "      <td>N</td>\n",
       "      <td>663</td>\n",
       "    </tr>\n",
       "    <tr>\n",
       "      <th>2</th>\n",
       "      <td>id3858529</td>\n",
       "      <td>2</td>\n",
       "      <td>2016-01-19 11:35:24</td>\n",
       "      <td>2016-01-19 12:10:48</td>\n",
       "      <td>1</td>\n",
       "      <td>-73.979027</td>\n",
       "      <td>40.763939</td>\n",
       "      <td>-74.005333</td>\n",
       "      <td>40.710087</td>\n",
       "      <td>N</td>\n",
       "      <td>2124</td>\n",
       "    </tr>\n",
       "    <tr>\n",
       "      <th>3</th>\n",
       "      <td>id3504673</td>\n",
       "      <td>2</td>\n",
       "      <td>2016-04-06 19:32:31</td>\n",
       "      <td>2016-04-06 19:39:40</td>\n",
       "      <td>1</td>\n",
       "      <td>-74.010040</td>\n",
       "      <td>40.719971</td>\n",
       "      <td>-74.012268</td>\n",
       "      <td>40.706718</td>\n",
       "      <td>N</td>\n",
       "      <td>429</td>\n",
       "    </tr>\n",
       "    <tr>\n",
       "      <th>4</th>\n",
       "      <td>id2181028</td>\n",
       "      <td>2</td>\n",
       "      <td>2016-03-26 13:30:55</td>\n",
       "      <td>2016-03-26 13:38:10</td>\n",
       "      <td>1</td>\n",
       "      <td>-73.973053</td>\n",
       "      <td>40.793209</td>\n",
       "      <td>-73.972923</td>\n",
       "      <td>40.782520</td>\n",
       "      <td>N</td>\n",
       "      <td>435</td>\n",
       "    </tr>\n",
       "  </tbody>\n",
       "</table>\n",
       "</div>"
      ],
      "text/plain": [
       "          id  vendor_id      ...      store_and_fwd_flag trip_duration\n",
       "0  id2875421          2      ...                       N           455\n",
       "1  id2377394          1      ...                       N           663\n",
       "2  id3858529          2      ...                       N          2124\n",
       "3  id3504673          2      ...                       N           429\n",
       "4  id2181028          2      ...                       N           435\n",
       "\n",
       "[5 rows x 11 columns]"
      ]
     },
     "execution_count": 3,
     "metadata": {},
     "output_type": "execute_result"
    }
   ],
   "source": [
    "train.head()"
   ]
  },
  {
   "cell_type": "code",
   "execution_count": 4,
   "metadata": {
    "_uuid": "0ffe9e71159345e3415f6e364ccf08bfdbd79c1b",
    "scrolled": true
   },
   "outputs": [
    {
     "data": {
      "text/plain": [
       "id                     object\n",
       "vendor_id               int64\n",
       "pickup_datetime        object\n",
       "dropoff_datetime       object\n",
       "passenger_count         int64\n",
       "pickup_longitude      float64\n",
       "pickup_latitude       float64\n",
       "dropoff_longitude     float64\n",
       "dropoff_latitude      float64\n",
       "store_and_fwd_flag     object\n",
       "trip_duration           int64\n",
       "dtype: object"
      ]
     },
     "execution_count": 4,
     "metadata": {},
     "output_type": "execute_result"
    }
   ],
   "source": [
    "train.dtypes"
   ]
  },
  {
   "cell_type": "code",
   "execution_count": 5,
   "metadata": {
    "_uuid": "7c0191dc87f82d835cca71c86a5d73dfe1a391f2"
   },
   "outputs": [
    {
     "name": "stdout",
     "output_type": "stream",
     "text": [
      "<class 'pandas.core.frame.DataFrame'>\n",
      "RangeIndex: 1458644 entries, 0 to 1458643\n",
      "Data columns (total 11 columns):\n",
      "id                    1458644 non-null object\n",
      "vendor_id             1458644 non-null int64\n",
      "pickup_datetime       1458644 non-null object\n",
      "dropoff_datetime      1458644 non-null object\n",
      "passenger_count       1458644 non-null int64\n",
      "pickup_longitude      1458644 non-null float64\n",
      "pickup_latitude       1458644 non-null float64\n",
      "dropoff_longitude     1458644 non-null float64\n",
      "dropoff_latitude      1458644 non-null float64\n",
      "store_and_fwd_flag    1458644 non-null object\n",
      "trip_duration         1458644 non-null int64\n",
      "dtypes: float64(4), int64(3), object(4)\n",
      "memory usage: 122.4+ MB\n"
     ]
    }
   ],
   "source": [
    "train.info()"
   ]
  },
  {
   "cell_type": "markdown",
   "metadata": {
    "_uuid": "16b03e158cb1d878a8248405b65c52dbbcb1b36a"
   },
   "source": [
    "# 2. Data exploration"
   ]
  },
  {
   "cell_type": "code",
   "execution_count": 6,
   "metadata": {
    "_uuid": "36075ffcdc644fef66b64bef4e23079e7bcaf7c6"
   },
   "outputs": [
    {
     "data": {
      "text/plain": [
       "id                    0\n",
       "vendor_id             0\n",
       "pickup_datetime       0\n",
       "dropoff_datetime      0\n",
       "passenger_count       0\n",
       "pickup_longitude      0\n",
       "pickup_latitude       0\n",
       "dropoff_longitude     0\n",
       "dropoff_latitude      0\n",
       "store_and_fwd_flag    0\n",
       "trip_duration         0\n",
       "dtype: int64"
      ]
     },
     "execution_count": 6,
     "metadata": {},
     "output_type": "execute_result"
    }
   ],
   "source": [
    "train.isna().sum()"
   ]
  },
  {
   "cell_type": "code",
   "execution_count": 7,
   "metadata": {
    "_uuid": "18da35c006505c0a9eac761bb0ef02168eac650c"
   },
   "outputs": [
    {
     "data": {
      "text/plain": [
       "1"
      ]
     },
     "execution_count": 7,
     "metadata": {},
     "output_type": "execute_result"
    }
   ],
   "source": [
    "train.trip_duration.min()\n"
   ]
  },
  {
   "cell_type": "code",
   "execution_count": 8,
   "metadata": {
    "_uuid": "2649465e6183e3801dd428125b48309f86a1b6ab"
   },
   "outputs": [
    {
     "data": {
      "text/plain": [
       "3526282"
      ]
     },
     "execution_count": 8,
     "metadata": {},
     "output_type": "execute_result"
    }
   ],
   "source": [
    "train.trip_duration.max()"
   ]
  },
  {
   "cell_type": "markdown",
   "metadata": {
    "_uuid": "bb8584843f739f90bddb6e8b4c8c74242d0d50b1"
   },
   "source": [
    "Dans 1 minute, il y a 60 secondes  \n",
    "Dans 1 heure, il y a 60 minutes. donc 60 * 60= 3600secondes  \n",
    "Dans 1 journée, il y a 24 heures. donc 24*3600= 86400 secondes.  \n",
    "=> 3526282/86400 = 40,81344907 jours\n",
    "\n",
    "\n",
    "On peut voir qu'il y a un temps de trajet minimum de 1 seconde et un maximum de 40 jours.\n",
    "Il faudra les enlever car cela va fausser les résultats.  \n",
    "Dans mon cas, je juge qu'un temps de trajet dans un taxi doit être comprise entre 5 minutes et quelques heures."
   ]
  },
  {
   "cell_type": "code",
   "execution_count": 9,
   "metadata": {
    "_uuid": "58eb4b69f514950fdc27aa479d6ab2223213120d"
   },
   "outputs": [
    {
     "data": {
      "text/plain": [
       "<matplotlib.collections.PathCollection at 0x7f346f76f470>"
      ]
     },
     "execution_count": 9,
     "metadata": {},
     "output_type": "execute_result"
    },
    {
     "data": {
      "image/png": "[encoded data removed]",
      "text/plain": [
       "<Figure size 864x720 with 1 Axes>"
      ]
     },
     "metadata": {},
     "output_type": "display_data"
    }
   ],
   "source": [
    "fig, ax = plt.subplots(ncols=1, nrows=1,figsize=(12,10))\n",
    "plt.ylim(40.6, 40.9)\n",
    "plt.xlim(-74.1,-73.7)\n",
    "ax.scatter(train['pickup_longitude'],train['pickup_latitude'], s=0.0002, alpha=1)"
   ]
  },
  {
   "cell_type": "markdown",
   "metadata": {
    "_uuid": "e3e6d19be845212ae2837002bbb498c1ba6561d2"
   },
   "source": [
    "# 3. Data preprocessing :"
   ]
  },
  {
   "cell_type": "markdown",
   "metadata": {
    "_uuid": "56dd66e1a0b5a5a31813d20fe32e8d8d01ddbe69"
   },
   "source": [
    "#### 3.1 Gestion des Outliers"
   ]
  },
  {
   "cell_type": "code",
   "execution_count": 10,
   "metadata": {
    "_uuid": "aee32bce0e6bf5a669038082e944219b49a4b75a"
   },
   "outputs": [
    {
     "data": {
      "text/plain": [
       "<matplotlib.axes._subplots.AxesSubplot at 0x7f346d6260f0>"
      ]
     },
     "execution_count": 10,
     "metadata": {},
     "output_type": "execute_result"
    },
    {
     "data": {
      "image/png": "[encoded data removed]",
      "text/plain": [
       "<Figure size 1296x504 with 1 Axes>"
      ]
     },
     "metadata": {},
     "output_type": "display_data"
    }
   ],
   "source": [
    "plt.subplots(figsize=(18,7))\n",
    "plt.title(\"Répartition des outliers\")\n",
    "train.boxplot()"
   ]
  },
  {
   "cell_type": "code",
   "execution_count": 11,
   "metadata": {
    "_uuid": "47bbb13aae9f0c4721d6b84ab556e6899f60be6e"
   },
   "outputs": [
    {
     "data": {
      "text/plain": [
       "<matplotlib.axes._subplots.AxesSubplot at 0x7f346d84a9b0>"
      ]
     },
     "execution_count": 11,
     "metadata": {},
     "output_type": "execute_result"
    },
    {
     "data": {
      "image/png": "[encoded data removed]",
      "text/plain": [
       "<Figure size 432x288 with 1 Axes>"
      ]
     },
     "metadata": {},
     "output_type": "display_data"
    }
   ],
   "source": [
    "train.loc[train.trip_duration<4000,\"trip_duration\"].hist(bins=120)"
   ]
  },
  {
   "cell_type": "markdown",
   "metadata": {
    "_uuid": "024ae28ddf41f300d68ca8e13a21ff06c0b9b456"
   },
   "source": [
    "1. 1. On pourra choisir un trip_duration max (4000) et trip_duration_min (0 car les trip_durations peuvent être nulls ou annulées)"
   ]
  },
  {
   "cell_type": "code",
   "execution_count": 12,
   "metadata": {
    "_uuid": "136189733f66026e8633d22daa89afcb430d504b"
   },
   "outputs": [
    {
     "data": {
      "text/plain": [
       "1    1033540\n",
       "2     210318\n",
       "5      78088\n",
       "3      59896\n",
       "6      48333\n",
       "4      28404\n",
       "0         60\n",
       "7          3\n",
       "9          1\n",
       "8          1\n",
       "Name: passenger_count, dtype: int64"
      ]
     },
     "execution_count": 12,
     "metadata": {},
     "output_type": "execute_result"
    }
   ],
   "source": [
    "train['passenger_count'].value_counts()"
   ]
  },
  {
   "cell_type": "code",
   "execution_count": 13,
   "metadata": {
    "_uuid": "a14e2b6229431f551789f66cb41d6d6f5adfcd96"
   },
   "outputs": [],
   "source": [
    "train = train[train['passenger_count']>0]\n",
    "train = train[train['passenger_count']<9]"
   ]
  },
  {
   "cell_type": "code",
   "execution_count": 14,
   "metadata": {
    "_uuid": "95ee8ace672be3a4f2edf2c75ee96b530a4a8b6d"
   },
   "outputs": [],
   "source": [
    "train = train[(train['trip_duration'] > 60) & (train['trip_duration'] < 3600*6)]\n",
    "train[train['trip_duration']<=120].shape\n",
    "train[train['trip_duration']>=3600*6].shape\n",
    "train['trip_duration'] = np.log(train['trip_duration'].values)\n",
    "\n",
    "train['hour'] = train['pickup_datetime'].apply(lambda x: int(x.split()[1][0:2]))\n",
    "\n",
    "\n",
    "test['hour'] = test['pickup_datetime'].apply(lambda x: int(x.split()[1][0:2]))\n",
    "\n",
    "#outliers coordonnés\n",
    "train = train.loc[train['pickup_longitude']> -80]\n",
    "train = train.loc[train['pickup_latitude']< 44]\n",
    "train = train.loc[train['dropoff_longitude']> -90]\n",
    "train = train.loc[train['dropoff_latitude']> 34]"
   ]
  },
  {
   "cell_type": "markdown",
   "metadata": {
    "_uuid": "01af77c52c2632635e16768d5e6df5891bfc76f4"
   },
   "source": [
    "distances"
   ]
  },
  {
   "cell_type": "code",
   "execution_count": 15,
   "metadata": {
    "_uuid": "f7f4d20e8a5a117b0f5d7c019612084f64206024"
   },
   "outputs": [],
   "source": [
    "import math\n",
    "\n",
    "def haversine(lat1, lon1, lat2, lon2):\n",
    "   R = 6372800  # Earth radius in meters\n",
    "   phi1, phi2 = math.radians(lat1), math.radians(lat2)\n",
    "   dphi       = math.radians(lat2 - lat1)\n",
    "   dlambda    = math.radians(lon2 - lon1)\n",
    "\n",
    "   a = math.sin(dphi/2)**2 + \\\n",
    "       math.cos(phi1)*math.cos(phi2)*math.sin(dlambda/2)**2\n",
    "\n",
    "   return 2*R*math.atan2(math.sqrt(a), math.sqrt(1 - a))\n",
    "\n",
    "train['dist_long'] = train['pickup_longitude'] - train['dropoff_longitude']\n",
    "test['dist_long'] = test['pickup_longitude'] - test['dropoff_longitude']\n",
    "\n",
    "train['dist_lat'] = train['pickup_latitude'] - train['dropoff_latitude']\n",
    "test['dist_lat'] = test['pickup_latitude'] - test['dropoff_latitude']\n",
    "\n",
    "train['dist'] = np.sqrt(np.square(train['dist_long']) + np.square(train['dist_lat']))\n",
    "test['dist'] = np.sqrt(np.square(test['dist_long']) + np.square(test['dist_lat']))"
   ]
  },
  {
   "cell_type": "code",
   "execution_count": 16,
   "metadata": {
    "_uuid": "40d85ab85f9ce16631e0a3ee68c6f38f8abf4f20"
   },
   "outputs": [],
   "source": [
    "train['pickup_datetime'] = pd.to_datetime(train['pickup_datetime'])\n",
    "train['dropoff_datetime'] = pd.to_datetime(train['dropoff_datetime'])\n",
    "test['pickup_datetime'] = pd.to_datetime(test['pickup_datetime'])\n",
    "\n",
    "train['hour'] = train.pickup_datetime.dt.hour\n",
    "train['day'] = train.pickup_datetime.dt.dayofweek\n",
    "train['month'] = train.pickup_datetime.dt.month\n",
    "test['hour'] = test.pickup_datetime.dt.hour\n",
    "test['day'] = test.pickup_datetime.dt.dayofweek\n",
    "test['month'] = test.pickup_datetime.dt.month"
   ]
  },
  {
   "cell_type": "markdown",
   "metadata": {
    "_uuid": "a22a24caa4be2010f47b242125e5a57814c6ff72"
   },
   "source": [
    "Suppression vitesse incohérente & distance\n"
   ]
  },
  {
   "cell_type": "code",
   "execution_count": 17,
   "metadata": {
    "_uuid": "eb6cf094827472a328e60690d6dcf6ee82e197f2"
   },
   "outputs": [],
   "source": []
  },
  {
   "cell_type": "markdown",
   "metadata": {
    "_uuid": "b0e6daef5c9da8cf1314d6b864de9c4fd8c1068b"
   },
   "source": [
    "#### 3.2 Missing values handling"
   ]
  },
  {
   "cell_type": "code",
   "execution_count": 17,
   "metadata": {
    "_uuid": "58b0584f4849f7ec1b81d8800efcfe78a29e2a0e"
   },
   "outputs": [
    {
     "data": {
      "text/plain": [
       "id                    0\n",
       "vendor_id             0\n",
       "pickup_datetime       0\n",
       "dropoff_datetime      0\n",
       "passenger_count       0\n",
       "pickup_longitude      0\n",
       "pickup_latitude       0\n",
       "dropoff_longitude     0\n",
       "dropoff_latitude      0\n",
       "store_and_fwd_flag    0\n",
       "trip_duration         0\n",
       "hour                  0\n",
       "dist_long             0\n",
       "dist_lat              0\n",
       "dist                  0\n",
       "day                   0\n",
       "month                 0\n",
       "dtype: int64"
      ]
     },
     "execution_count": 17,
     "metadata": {},
     "output_type": "execute_result"
    }
   ],
   "source": [
    "train.isnull().sum()"
   ]
  },
  {
   "cell_type": "markdown",
   "metadata": {
    "_uuid": "522017cd0c031c2f11f7b52934224be11a6c6b66"
   },
   "source": [
    "#### 3.4 Scaling des données"
   ]
  },
  {
   "cell_type": "markdown",
   "metadata": {
    "_uuid": "116cffb744851e58d89b435fd784f97527698b23"
   },
   "source": [
    "# 4. Features engineering : selection, extraction, creation"
   ]
  },
  {
   "cell_type": "code",
   "execution_count": 18,
   "metadata": {
    "_uuid": "db43891ad95a831580bc78790ed5829d561f934e"
   },
   "outputs": [],
   "source": [
    "col_diff = list(set(train.columns).difference(set(test.columns)))"
   ]
  },
  {
   "cell_type": "code",
   "execution_count": 19,
   "metadata": {
    "_uuid": "49595910299b3d1e042708511cc9ae0a8a326564"
   },
   "outputs": [
    {
     "data": {
      "text/html": [
       "<div>\n",
       "<style scoped>\n",
       "    .dataframe tbody tr th:only-of-type {\n",
       "        vertical-align: middle;\n",
       "    }\n",
       "\n",
       "    .dataframe tbody tr th {\n",
       "        vertical-align: top;\n",
       "    }\n",
       "\n",
       "    .dataframe thead th {\n",
       "        text-align: right;\n",
       "    }\n",
       "</style>\n",
       "<table border=\"1\" class=\"dataframe\">\n",
       "  <thead>\n",
       "    <tr style=\"text-align: right;\">\n",
       "      <th></th>\n",
       "      <th>id</th>\n",
       "      <th>vendor_id</th>\n",
       "      <th>pickup_datetime</th>\n",
       "      <th>dropoff_datetime</th>\n",
       "      <th>passenger_count</th>\n",
       "      <th>pickup_longitude</th>\n",
       "      <th>pickup_latitude</th>\n",
       "      <th>dropoff_longitude</th>\n",
       "      <th>dropoff_latitude</th>\n",
       "      <th>store_and_fwd_flag</th>\n",
       "      <th>trip_duration</th>\n",
       "      <th>hour</th>\n",
       "      <th>dist_long</th>\n",
       "      <th>dist_lat</th>\n",
       "      <th>dist</th>\n",
       "      <th>day</th>\n",
       "      <th>month</th>\n",
       "    </tr>\n",
       "  </thead>\n",
       "  <tbody>\n",
       "    <tr>\n",
       "      <th>0</th>\n",
       "      <td>id2875421</td>\n",
       "      <td>2</td>\n",
       "      <td>2016-03-14 17:24:55</td>\n",
       "      <td>2016-03-14 17:32:30</td>\n",
       "      <td>1</td>\n",
       "      <td>-73.982155</td>\n",
       "      <td>40.767937</td>\n",
       "      <td>-73.964630</td>\n",
       "      <td>40.765602</td>\n",
       "      <td>N</td>\n",
       "      <td>6.120297</td>\n",
       "      <td>17</td>\n",
       "      <td>-0.017525</td>\n",
       "      <td>0.002335</td>\n",
       "      <td>0.017680</td>\n",
       "      <td>0</td>\n",
       "      <td>3</td>\n",
       "    </tr>\n",
       "    <tr>\n",
       "      <th>1</th>\n",
       "      <td>id2377394</td>\n",
       "      <td>1</td>\n",
       "      <td>2016-06-12 00:43:35</td>\n",
       "      <td>2016-06-12 00:54:38</td>\n",
       "      <td>1</td>\n",
       "      <td>-73.980415</td>\n",
       "      <td>40.738564</td>\n",
       "      <td>-73.999481</td>\n",
       "      <td>40.731152</td>\n",
       "      <td>N</td>\n",
       "      <td>6.496775</td>\n",
       "      <td>0</td>\n",
       "      <td>0.019066</td>\n",
       "      <td>0.007412</td>\n",
       "      <td>0.020456</td>\n",
       "      <td>6</td>\n",
       "      <td>6</td>\n",
       "    </tr>\n",
       "    <tr>\n",
       "      <th>2</th>\n",
       "      <td>id3858529</td>\n",
       "      <td>2</td>\n",
       "      <td>2016-01-19 11:35:24</td>\n",
       "      <td>2016-01-19 12:10:48</td>\n",
       "      <td>1</td>\n",
       "      <td>-73.979027</td>\n",
       "      <td>40.763939</td>\n",
       "      <td>-74.005333</td>\n",
       "      <td>40.710087</td>\n",
       "      <td>N</td>\n",
       "      <td>7.661056</td>\n",
       "      <td>11</td>\n",
       "      <td>0.026306</td>\n",
       "      <td>0.053852</td>\n",
       "      <td>0.059934</td>\n",
       "      <td>1</td>\n",
       "      <td>1</td>\n",
       "    </tr>\n",
       "    <tr>\n",
       "      <th>3</th>\n",
       "      <td>id3504673</td>\n",
       "      <td>2</td>\n",
       "      <td>2016-04-06 19:32:31</td>\n",
       "      <td>2016-04-06 19:39:40</td>\n",
       "      <td>1</td>\n",
       "      <td>-74.010040</td>\n",
       "      <td>40.719971</td>\n",
       "      <td>-74.012268</td>\n",
       "      <td>40.706718</td>\n",
       "      <td>N</td>\n",
       "      <td>6.061457</td>\n",
       "      <td>19</td>\n",
       "      <td>0.002228</td>\n",
       "      <td>0.013252</td>\n",
       "      <td>0.013438</td>\n",
       "      <td>2</td>\n",
       "      <td>4</td>\n",
       "    </tr>\n",
       "    <tr>\n",
       "      <th>4</th>\n",
       "      <td>id2181028</td>\n",
       "      <td>2</td>\n",
       "      <td>2016-03-26 13:30:55</td>\n",
       "      <td>2016-03-26 13:38:10</td>\n",
       "      <td>1</td>\n",
       "      <td>-73.973053</td>\n",
       "      <td>40.793209</td>\n",
       "      <td>-73.972923</td>\n",
       "      <td>40.782520</td>\n",
       "      <td>N</td>\n",
       "      <td>6.075346</td>\n",
       "      <td>13</td>\n",
       "      <td>-0.000130</td>\n",
       "      <td>0.010689</td>\n",
       "      <td>0.010690</td>\n",
       "      <td>5</td>\n",
       "      <td>3</td>\n",
       "    </tr>\n",
       "  </tbody>\n",
       "</table>\n",
       "</div>"
      ],
      "text/plain": [
       "          id  vendor_id     pickup_datetime  ...        dist  day  month\n",
       "0  id2875421          2 2016-03-14 17:24:55  ...    0.017680    0      3\n",
       "1  id2377394          1 2016-06-12 00:43:35  ...    0.020456    6      6\n",
       "2  id3858529          2 2016-01-19 11:35:24  ...    0.059934    1      1\n",
       "3  id3504673          2 2016-04-06 19:32:31  ...    0.013438    2      4\n",
       "4  id2181028          2 2016-03-26 13:30:55  ...    0.010690    5      3\n",
       "\n",
       "[5 rows x 17 columns]"
      ]
     },
     "execution_count": 19,
     "metadata": {},
     "output_type": "execute_result"
    }
   ],
   "source": [
    "train.head()"
   ]
  },
  {
   "cell_type": "code",
   "execution_count": 20,
   "metadata": {
    "_uuid": "2578b67d0503bcbc0119fc12d9236e348385ac49"
   },
   "outputs": [],
   "source": [
    "y_train = train[\"trip_duration\"] # <-- target\n",
    "X_train = train[[\"vendor_id\",\"passenger_count\",\"pickup_longitude\", \"pickup_latitude\", \"dropoff_longitude\",\"dropoff_latitude\",\"month\",\"hour\",\"day\",\"dist\"]] # <-- features\n",
    "\n",
    "X_datatest = test[[\"vendor_id\",\"passenger_count\",\"pickup_longitude\", \"pickup_latitude\", \"dropoff_longitude\",\"dropoff_latitude\",\"month\",\"hour\",\"day\",\"dist\"]]"
   ]
  },
  {
   "cell_type": "code",
   "execution_count": 21,
   "metadata": {
    "_uuid": "78a1dbe77f3a954fb12eb67e4f4c01c144819479"
   },
   "outputs": [],
   "source": [
    "train.drop(['dist','hour']+col_diff, axis=1, inplace=True)"
   ]
  },
  {
   "cell_type": "markdown",
   "metadata": {
    "_uuid": "f2ec8fe3e3a1b6509c4866da11d8a41b9c4e99c6"
   },
   "source": [
    "# 5. Sélection de modèles et/ou datasets (si il y en a plusieurs)****"
   ]
  },
  {
   "cell_type": "code",
   "execution_count": 22,
   "metadata": {
    "_uuid": "9510ae7eaa9a5d3e43737ff012e8395c7b5fa354",
    "scrolled": true
   },
   "outputs": [],
   "source": [
    "# declarer le model et l'entrainer\n",
    "\n",
    "#sgd = SGDRegressor()\n",
    "#sgd.fit(X_train, y_train)"
   ]
  },
  {
   "cell_type": "markdown",
   "metadata": {
    "_uuid": "70e368d2371453da95c17853e2fa820936e23a0d"
   },
   "source": [
    "# 6. Entrainement du ou des modèle(s) & Predictions"
   ]
  },
  {
   "cell_type": "code",
   "execution_count": 23,
   "metadata": {
    "_uuid": "4f4e4cff7fe78d1ffe7939c2c2f9a2915597152d"
   },
   "outputs": [],
   "source": [
    "from sklearn.model_selection import train_test_split\n",
    "X_train, X_valid, y_train, y_valid = train_test_split(X_train, y_train, test_size = 0.1, random_state=42)"
   ]
  },
  {
   "cell_type": "code",
   "execution_count": 24,
   "metadata": {
    "_uuid": "7235cde84197f46fbc04543289b88547a21d2c3b"
   },
   "outputs": [
    {
     "data": {
      "text/plain": [
       "RandomForestRegressor(bootstrap=True, criterion='mse', max_depth=80,\n",
       "           max_features='auto', max_leaf_nodes=None,\n",
       "           min_impurity_decrease=0.0, min_impurity_split=None,\n",
       "           min_samples_leaf=10, min_samples_split=15,\n",
       "           min_weight_fraction_leaf=0.0, n_estimators=100, n_jobs=-1,\n",
       "           oob_score=False, random_state=None, verbose=0, warm_start=False)"
      ]
     },
     "execution_count": 24,
     "metadata": {},
     "output_type": "execute_result"
    }
   ],
   "source": [
    "rfr = RandomForestRegressor(n_estimators=100,min_samples_leaf=10, min_samples_split=15, max_depth=80,verbose=0,max_features=\"auto\",bootstrap=True,n_jobs=-1)\n",
    "rfr.fit(X_train, y_train)"
   ]
  },
  {
   "cell_type": "code",
   "execution_count": 25,
   "metadata": {
    "_uuid": "3a176ed7e77c6fe442ddbc8f0f33dda9bcb0ce1d"
   },
   "outputs": [],
   "source": [
    "# Trop long\n",
    "# calculer les scores de cross validation du model selon une decoupe du dataset de train\n",
    "cv_scores = cross_val_score(rfr, X_train, y_train, cv=5, scoring= 'neg_mean_squared_log_error')"
   ]
  },
  {
   "cell_type": "code",
   "execution_count": 26,
   "metadata": {
    "_uuid": "e588c0a6b341c31ba32dbb8349d17f0b74340729"
   },
   "outputs": [
    {
     "data": {
      "text/plain": [
       "array([-0.00213956, -0.002132  , -0.00212856, -0.0021095 , -0.00215209])"
      ]
     },
     "execution_count": 26,
     "metadata": {},
     "output_type": "execute_result"
    }
   ],
   "source": [
    "cv_scores"
   ]
  },
  {
   "cell_type": "code",
   "execution_count": 27,
   "metadata": {
    "_uuid": "094a4dbb045acc2b85537c9b9b9613721b64423b"
   },
   "outputs": [],
   "source": [
    "for i in range(len(cv_scores)):\n",
    "    cv_scores[i] = np.sqrt(abs(cv_scores[i]))\n",
    "cv_scores\n",
    "\n",
    "\n",
    "\n",
    "## xgb parameters\n",
    "params = {\n",
    "    'booster':            'gbtree',\n",
    "    'objective':          'reg:linear',\n",
    "    'learning_rate':      0.1,\n",
    "    'max_depth':          14,\n",
    "    'subsample':          0.8,\n",
    "    'colsample_bytree':   0.7,\n",
    "    'colsample_bylevel':  0.7,\n",
    "    'silent':             1\n",
    "}"
   ]
  },
  {
   "cell_type": "code",
   "execution_count": 28,
   "metadata": {
    "_uuid": "0cf913c5281112014d56bf6559849c5d0ef00eea"
   },
   "outputs": [
    {
     "name": "stderr",
     "output_type": "stream",
     "text": [
      "/opt/conda/lib/python3.6/site-packages/xgboost/core.py:587: FutureWarning: Series.base is deprecated and will be removed in a future version\n",
      "  if getattr(data, 'base', None) is not None and \\\n"
     ]
    }
   ],
   "source": [
    "nrounds = 1000\n",
    "dtrain = xgb.DMatrix(X_train, np.log(y_train+1))\n",
    "gbm = xgb.train(params,\n",
    "                dtrain,\n",
    "                num_boost_round = nrounds)"
   ]
  },
  {
   "cell_type": "code",
   "execution_count": 29,
   "metadata": {
    "_uuid": "361d7f78700fc9602941d8af7f51d22757ab7472"
   },
   "outputs": [],
   "source": [
    "#train_pred = rfr.predict(X_datatest)\n",
    "#train_pred[:5]\n",
    "\n",
    "train_pred = np.exp(gbm.predict(xgb.DMatrix(X_datatest))) - 1\n",
    "#train_pred[:5]"
   ]
  },
  {
   "cell_type": "code",
   "execution_count": 30,
   "metadata": {
    "_uuid": "eb6d7eaf795e67ffeb9911f2c3475f0557c87735"
   },
   "outputs": [
    {
     "data": {
      "text/plain": [
       "array([6.7131915, 6.264576 , 6.0117164, ..., 7.402931 , 7.4737434,\n",
       "       7.003709 ], dtype=float32)"
      ]
     },
     "execution_count": 30,
     "metadata": {},
     "output_type": "execute_result"
    }
   ],
   "source": [
    "train_pred"
   ]
  },
  {
   "cell_type": "code",
   "execution_count": 31,
   "metadata": {
    "_uuid": "c07c01dc56d7076b6eab2d8f58444a5075576374",
    "scrolled": true
   },
   "outputs": [
    {
     "name": "stdout",
     "output_type": "stream",
     "text": [
      "               id  trip_duration\n",
      "0       id3004672     823.193665\n",
      "1       id3505355     525.618652\n",
      "2       id1217141     408.183319\n",
      "3       id2150126     958.185364\n",
      "4       id1598245     486.796265\n",
      "5       id0668992     880.106262\n",
      "6       id1765014    1247.610474\n",
      "7       id0898117     706.265564\n",
      "8       id3905224    2418.288574\n",
      "9       id1543102     567.006165\n",
      "10      id3024712    1227.098511\n",
      "11      id3665810     479.609039\n",
      "12      id1836461     346.427765\n",
      "13      id3457080     662.230408\n",
      "14      id3376065    1256.383911\n",
      "15      id3008739     624.021545\n",
      "16      id0902216    1217.543335\n",
      "17      id3564824     460.482605\n",
      "18      id0820280     133.345413\n",
      "19      id0775088    1105.643188\n",
      "20      id1468488     284.829376\n",
      "21      id2657479     379.511810\n",
      "22      id1262719     636.375671\n",
      "23      id1345524    1128.838989\n",
      "24      id2911638    1081.456421\n",
      "25      id2849512    1441.959106\n",
      "26      id0236829     365.410889\n",
      "27      id2905906     442.546265\n",
      "28      id3737939    1180.369263\n",
      "29      id0766179    1856.829346\n",
      "...           ...            ...\n",
      "625104  id0120169     325.030304\n",
      "625105  id0386349     359.828064\n",
      "625106  id1962532     769.593567\n",
      "625107  id0335207     396.691193\n",
      "625108  id0273508    1422.255493\n",
      "625109  id2936770     544.226257\n",
      "625110  id0044526     142.285034\n",
      "625111  id3605431     703.017822\n",
      "625112  id2681896     371.837891\n",
      "625113  id3308448     572.400940\n",
      "625114  id2108525     499.649231\n",
      "625115  id3952220    2393.419678\n",
      "625116  id2771348     550.757202\n",
      "625117  id3065313    1618.337158\n",
      "625118  id2332834    1713.925781\n",
      "625119  id3495407     427.991577\n",
      "625120  id3811106     346.990387\n",
      "625121  id2693698     338.173248\n",
      "625122  id2884571     344.158112\n",
      "625123  id2790343    1205.043213\n",
      "625124  id1901191     549.861877\n",
      "625125  id0664662     690.688354\n",
      "625126  id2073829     297.082184\n",
      "625127  id0328287     306.589783\n",
      "625128  id1340822     273.051544\n",
      "625129  id3008929     277.694092\n",
      "625130  id3700764    1192.237061\n",
      "625131  id2568735    1640.786865\n",
      "625132  id1384355    1761.187256\n",
      "625133  id0621643    1100.707886\n",
      "\n",
      "[625134 rows x 2 columns]\n"
     ]
    }
   ],
   "source": [
    "my_submission = pd.DataFrame({\"id\": test.id, \"trip_duration\": np.exp(train_pred)})\n",
    "print(my_submission)"
   ]
  },
  {
   "cell_type": "code",
   "execution_count": 32,
   "metadata": {
    "_uuid": "98a9fafe6e9d220e89797122047bd3a26a62b0be"
   },
   "outputs": [],
   "source": [
    "my_submission.to_csv('submission.csv', index=False)\n"
   ]
  },
  {
   "cell_type": "code",
   "execution_count": 33,
   "metadata": {
    "_uuid": "a7c6c49ed3bfde97197e64a1c3af0ba9487460ed"
   },
   "outputs": [
    {
     "data": {
      "text/html": [
       "<div>\n",
       "<style scoped>\n",
       "    .dataframe tbody tr th:only-of-type {\n",
       "        vertical-align: middle;\n",
       "    }\n",
       "\n",
       "    .dataframe tbody tr th {\n",
       "        vertical-align: top;\n",
       "    }\n",
       "\n",
       "    .dataframe thead th {\n",
       "        text-align: right;\n",
       "    }\n",
       "</style>\n",
       "<table border=\"1\" class=\"dataframe\">\n",
       "  <thead>\n",
       "    <tr style=\"text-align: right;\">\n",
       "      <th></th>\n",
       "      <th>id</th>\n",
       "      <th>trip_duration</th>\n",
       "    </tr>\n",
       "  </thead>\n",
       "  <tbody>\n",
       "    <tr>\n",
       "      <th>0</th>\n",
       "      <td>id3004672</td>\n",
       "      <td>823.193665</td>\n",
       "    </tr>\n",
       "    <tr>\n",
       "      <th>1</th>\n",
       "      <td>id3505355</td>\n",
       "      <td>525.618652</td>\n",
       "    </tr>\n",
       "    <tr>\n",
       "      <th>2</th>\n",
       "      <td>id1217141</td>\n",
       "      <td>408.183319</td>\n",
       "    </tr>\n",
       "    <tr>\n",
       "      <th>3</th>\n",
       "      <td>id2150126</td>\n",
       "      <td>958.185364</td>\n",
       "    </tr>\n",
       "    <tr>\n",
       "      <th>4</th>\n",
       "      <td>id1598245</td>\n",
       "      <td>486.796265</td>\n",
       "    </tr>\n",
       "  </tbody>\n",
       "</table>\n",
       "</div>"
      ],
      "text/plain": [
       "          id  trip_duration\n",
       "0  id3004672     823.193665\n",
       "1  id3505355     525.618652\n",
       "2  id1217141     408.183319\n",
       "3  id2150126     958.185364\n",
       "4  id1598245     486.796265"
      ]
     },
     "execution_count": 33,
     "metadata": {},
     "output_type": "execute_result"
    }
   ],
   "source": [
    "my_submission.head()"
   ]
  },
  {
   "cell_type": "code",
   "execution_count": 34,
   "metadata": {
    "_uuid": "6fb616bb3b7e29639b2569f5bb1cff3682778c01"
   },
   "outputs": [],
   "source": []
  }
 ],
 "metadata": {
  "kernelspec": {
   "display_name": "Python 3",
   "language": "python",
   "name": "python3"
  },
  "language_info": {
   "codemirror_mode": {
    "name": "ipython",
    "version": 3
   },
   "file_extension": ".py",
   "mimetype": "text/x-python",
   "name": "python",
   "nbconvert_exporter": "python",
   "pygments_lexer": "ipython3",
   "version": "3.6.6"
  }
 },
 "nbformat": 4,
 "nbformat_minor": 1
}
